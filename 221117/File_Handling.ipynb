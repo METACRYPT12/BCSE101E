{
 "cells": [
  {
   "cell_type": "markdown",
   "metadata": {},
   "source": [
    "# Demostration of File Handling  \n",
    "f = open(filename, mode)  \n",
    "r = read  \n",
    "w = write (overwriting enabled) \n",
    "a = append (don`t overwrite existing data)  \n",
    "x = Create and write (returns error if the file exists)  \n",
    "r+ = read and write (same as 'a' but with read)  \n",
    "w+ = write (overwriting enabled)  \n",
    "t = Text mode (Default mode)  \n",
    "b = Binary mode  \n",
    "\\+ = open a disk file for updating (reading and writing)"
   ]
  },
  {
   "cell_type": "code",
   "execution_count": null,
   "metadata": {},
   "outputs": [],
   "source": [
    "f = open('/BCSE101E/221117/sample.txt', 'r')\n",
    "print(f.read())"
   ]
  },
  {
   "cell_type": "code",
   "execution_count": null,
   "metadata": {},
   "outputs": [],
   "source": [
    "f = open('/BCSE101E/221117/sample2.txt', 'w')\n",
    "f.write(\"Sample txt\")\n",
    "f.close()"
   ]
  },
  {
   "cell_type": "code",
   "execution_count": null,
   "metadata": {},
   "outputs": [],
   "source": [
    "f = open('/BCSE101E/221117/sample.txt', 'a')\n",
    "f.write(\"This will add this line\")\n",
    "f.close()"
   ]
  }
 ],
 "metadata": {
  "kernelspec": {
   "display_name": "Python 3.10.7 64-bit",
   "language": "python",
   "name": "python3"
  },
  "language_info": {
   "name": "python",
   "version": "3.10.7"
  },
  "orig_nbformat": 4,
  "vscode": {
   "interpreter": {
    "hash": "c20304d22c5f7985d6688e1254423df0e05a7bac551638e2c0e3a1faa29a357b"
   }
  }
 },
 "nbformat": 4,
 "nbformat_minor": 2
}
