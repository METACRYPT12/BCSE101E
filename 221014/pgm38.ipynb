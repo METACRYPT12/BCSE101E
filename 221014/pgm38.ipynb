{
 "cells": [
  {
   "cell_type": "markdown",
   "metadata": {},
   "source": [
    "# Tuples in Python"
   ]
  },
  {
   "cell_type": "code",
   "execution_count": null,
   "metadata": {},
   "outputs": [],
   "source": [
    "t = (\"a\",\"b\",\"c\",\"d\",\"e\")\n",
    "print(t)"
   ]
  },
  {
   "cell_type": "code",
   "execution_count": 4,
   "metadata": {},
   "outputs": [
    {
     "name": "stdout",
     "output_type": "stream",
     "text": [
      "Hello a\n",
      "Hello b\n",
      "Hello c\n",
      "Hello d\n",
      "Hello e\n"
     ]
    }
   ],
   "source": [
    "def welcome(*names):\n",
    "    for name in names:\n",
    "        print(\"Hello\",name)\n",
    "\n",
    "welcome(\"a\",\"b\",\"c\",\"d\",\"e\")"
   ]
  }
 ],
 "metadata": {
  "kernelspec": {
   "display_name": "Python 3.10.7 64-bit",
   "language": "python",
   "name": "python3"
  },
  "language_info": {
   "codemirror_mode": {
    "name": "ipython",
    "version": 3
   },
   "file_extension": ".py",
   "mimetype": "text/x-python",
   "name": "python",
   "nbconvert_exporter": "python",
   "pygments_lexer": "ipython3",
   "version": "3.10.7"
  },
  "orig_nbformat": 4,
  "vscode": {
   "interpreter": {
    "hash": "c20304d22c5f7985d6688e1254423df0e05a7bac551638e2c0e3a1faa29a357b"
   }
  }
 },
 "nbformat": 4,
 "nbformat_minor": 2
}
